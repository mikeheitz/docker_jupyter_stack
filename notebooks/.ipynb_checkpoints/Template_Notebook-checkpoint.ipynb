{
 "cells": [
  {
   "cell_type": "code",
   "execution_count": 1,
   "metadata": {},
   "outputs": [],
   "source": [
    "from usf_helpers import snow\n",
    "from usf_helpers.snow import SnowflakeConnector\n",
    "import os\n",
    "from usf_helpers import sql\n",
    "import pandas as pd"
   ]
  },
  {
   "cell_type": "code",
   "execution_count": 3,
   "metadata": {},
   "outputs": [],
   "source": [
    "uid = os.environ['SNOWFLAKE_USER']\n",
    "pwd = os.environ['SNOWFLAKE_PASSWORD']\n",
    "role = os.environ['SNOWFLAKE_ROLE']\n",
    "warehouse = os.environ['SNOWFLAKE_WAREHOUSE']\n",
    "schema = os.environ['SNOWFLAKE_SCHEMA']\n",
    "database = os.environ['SNOWFLAKE_DATABASE']"
   ]
  },
  {
   "cell_type": "code",
   "execution_count": 4,
   "metadata": {},
   "outputs": [
    {
     "name": "stdout",
     "output_type": "stream",
     "text": [
      "Connecting to Snowflake...\n",
      "connected to snowflake version:  4.43.1\n",
      "Query Executed.\n",
      "Query Executed.\n",
      "Query Executed.\n",
      "Query Executed.\n",
      "Connected to Snowflake\n"
     ]
    }
   ],
   "source": [
    "conn = SnowflakeConnector(uid, pwd)\n",
    "conn.check_cursor()\n",
    "conn.execute(f\"USE ROLE {role};\")\n",
    "conn.execute(f\"USE DATABASE {database}\")\n",
    "conn.execute(f\"USE WAREHOUSE {warehouse};\")\n",
    "conn.execute(f\"USE SCHEMA {schema};\")\n",
    "print(\"Connected to Snowflake\")"
   ]
  },
  {
   "cell_type": "code",
   "execution_count": 5,
   "metadata": {},
   "outputs": [
    {
     "name": "stdout",
     "output_type": "stream",
     "text": [
      "SVC_INA_GENERAL\n"
     ]
    }
   ],
   "source": [
    "print(uid)"
   ]
  },
  {
   "cell_type": "code",
   "execution_count": 6,
   "metadata": {},
   "outputs": [
    {
     "ename": "TypeError",
     "evalue": "'SnowflakeCursor' object is not callable",
     "output_type": "error",
     "traceback": [
      "\u001b[0;31m---------------------------------------------------------------------------\u001b[0m",
      "\u001b[0;31mTypeError\u001b[0m                                 Traceback (most recent call last)",
      "\u001b[0;32m<ipython-input-6-0d135c4696e1>\u001b[0m in \u001b[0;36m<module>\u001b[0;34m\u001b[0m\n\u001b[1;32m      1\u001b[0m \u001b[0mquery\u001b[0m \u001b[0;34m=\u001b[0m \u001b[0;34m'SELECT * FROM GOLD.XDMADM.DIV_CORP'\u001b[0m\u001b[0;34m\u001b[0m\u001b[0;34m\u001b[0m\u001b[0m\n\u001b[1;32m      2\u001b[0m \u001b[0;31m#create cursor\u001b[0m\u001b[0;34m\u001b[0m\u001b[0;34m\u001b[0m\u001b[0;34m\u001b[0m\u001b[0m\n\u001b[0;32m----> 3\u001b[0;31m \u001b[0mcurs\u001b[0m\u001b[0;34m=\u001b[0m\u001b[0mconn\u001b[0m\u001b[0;34m.\u001b[0m\u001b[0mcursor\u001b[0m\u001b[0;34m(\u001b[0m\u001b[0;34m)\u001b[0m\u001b[0;34m\u001b[0m\u001b[0;34m\u001b[0m\u001b[0m\n\u001b[0m\u001b[1;32m      4\u001b[0m \u001b[0;31m#execute SQL statement\u001b[0m\u001b[0;34m\u001b[0m\u001b[0;34m\u001b[0m\u001b[0;34m\u001b[0m\u001b[0m\n\u001b[1;32m      5\u001b[0m \u001b[0mcurs\u001b[0m\u001b[0;34m.\u001b[0m\u001b[0mexecute\u001b[0m\u001b[0;34m(\u001b[0m\u001b[0mquery\u001b[0m\u001b[0;34m)\u001b[0m\u001b[0;34m\u001b[0m\u001b[0;34m\u001b[0m\u001b[0m\n",
      "\u001b[0;31mTypeError\u001b[0m: 'SnowflakeCursor' object is not callable"
     ]
    }
   ],
   "source": [
    "query = 'SELECT * FROM GOLD.XDMADM.DIV_CORP'\n",
    "#create cursor\n",
    "curs=conn.cursor()\n",
    "#execute SQL statement\n",
    "curs.execute(query)\n",
    "#fetch result\n",
    "print(cur.fetchall())"
   ]
  },
  {
   "cell_type": "code",
   "execution_count": null,
   "metadata": {},
   "outputs": [],
   "source": []
  }
 ],
 "metadata": {
  "kernelspec": {
   "display_name": "Python 3",
   "language": "python",
   "name": "python3"
  },
  "language_info": {
   "codemirror_mode": {
    "name": "ipython",
    "version": 3
   },
   "file_extension": ".py",
   "mimetype": "text/x-python",
   "name": "python",
   "nbconvert_exporter": "python",
   "pygments_lexer": "ipython3",
   "version": "3.7.7"
  }
 },
 "nbformat": 4,
 "nbformat_minor": 4
}
