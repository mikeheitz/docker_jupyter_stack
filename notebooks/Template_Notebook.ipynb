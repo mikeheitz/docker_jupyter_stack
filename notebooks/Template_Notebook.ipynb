{
 "cells": [
  {
   "cell_type": "code",
   "execution_count": null,
   "metadata": {},
   "outputs": [],
   "source": [
    "import pandas as pd\n",
    "import os"
   ]
  },
  {
   "cell_type": "code",
   "execution_count": null,
   "metadata": {},
   "outputs": [],
   "source": [
    "uid = os.environ['SNOWFLAKE_USER']\n",
    "pwd = os.environ['SNOWFLAKE_PASSWORD']\n",
    "role = os.environ['SNOWFLAKE_ROLE']\n",
    "warehouse = os.environ['SNOWFLAKE_WAREHOUSE']\n",
    "schema = os.environ['SNOWFLAKE_SCHEMA']\n",
    "database = os.environ['SNOWFLAKE_DATABASE']"
   ]
  },
  {
   "cell_type": "code",
   "execution_count": null,
   "metadata": {},
   "outputs": [],
   "source": [
    "conn = SnowflakeConnector(uid, pwd)\n",
    "conn.check_cursor()\n",
    "conn.execute(f\"USE ROLE {role};\")\n",
    "conn.execute(f\"USE DATABASE {database}\")\n",
    "conn.execute(f\"USE WAREHOUSE {warehouse};\")\n",
    "conn.execute(f\"USE SCHEMA {schema};\")\n",
    "print(\"Connected to Snowflake\")"
   ]
  },
  {
   "cell_type": "code",
   "execution_count": null,
   "metadata": {},
   "outputs": [],
   "source": [
    "sql = \"SELECT * FROM table\""
   ]
  },
  {
   "cell_type": "code",
   "execution_count": null,
   "metadata": {},
   "outputs": [],
   "source": [
    "conn.execute(sql)\n",
    "df = conn.fetch_pandas_all()"
   ]
  },
  {
   "cell_type": "code",
   "execution_count": null,
   "metadata": {},
   "outputs": [],
   "source": [
    "df.head()"
   ]
  },
  {
   "cell_type": "code",
   "execution_count": null,
   "metadata": {},
   "outputs": [],
   "source": []
  }
 ],
 "metadata": {
  "kernelspec": {
   "display_name": "Python 3",
   "language": "python",
   "name": "python3"
  },
  "language_info": {
   "codemirror_mode": {
    "name": "ipython",
    "version": 3
   },
   "file_extension": ".py",
   "mimetype": "text/x-python",
   "name": "python",
   "nbconvert_exporter": "python",
   "pygments_lexer": "ipython3",
   "version": "3.7.7"
  }
 },
 "nbformat": 4,
 "nbformat_minor": 4
}
